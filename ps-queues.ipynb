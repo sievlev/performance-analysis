{
 "cells": [
  {
   "cell_type": "markdown",
   "metadata": {},
   "source": [
    "## Networks with Time-Sharing (PS) Servers\n",
    "\n",
    "A server with service rate $\\mu$ operates under Processor-Sharing (PS) service order if, whenever there are n jobs at the server, each of the jobs is processed at rate $\\frac{\\mu}{n}$.\n",
    "\n",
    "M/M/1/PS and M/Cox/1PS works like M/M/1/FCFS.\n",
    "\n",
    "The fact that the limiting probabilities of /M/G/1/PS are independent of the job size distribution is called an **insensitivity property**.\n"
   ]
  },
  {
   "cell_type": "markdown",
   "metadata": {},
   "source": [
    "**Example 1**: Jobs arriving to server with time sharing CPU have service requirements that come from unknown distribution. The arrival process is Poisson with rate $\\lambda$ 3 job/sec. The mean job service requirement is 1/5 sec.\n",
    "\n",
    "eMean response time for this system is $E[T]=\\frac{1}{\\mu - \\lambda} = 1/2 sec$"
   ]
  },
  {
   "cell_type": "markdown",
   "metadata": {},
   "source": [
    "**Example 2**: Distributed system consisting of two hosts. Each host is time-sharing host. Host 1 is twice as fast as Host 2. Jobs arrive according Poisson distrubution with rate 1/9 jobs/sec. Job service requirements come from general distribution with mean 3 sec on host 1 and 6 sec on host 2. With probability 3/4 job is send to host 1 and with probability 1/4 is send to host 2.\n",
    "\n",
    "$E[T] = \\frac{3}{4}E[T_1] + \\frac{1}{4}E[T_2] = \\frac{24}{5} sec.$"
   ]
  },
  {
   "cell_type": "code",
   "execution_count": null,
   "metadata": {},
   "outputs": [],
   "source": []
  }
 ],
 "metadata": {
  "kernelspec": {
   "display_name": "Python 3",
   "language": "python",
   "name": "python3"
  },
  "language_info": {
   "codemirror_mode": {
    "name": "ipython",
    "version": 3
   },
   "file_extension": ".py",
   "mimetype": "text/x-python",
   "name": "python",
   "nbconvert_exporter": "python",
   "pygments_lexer": "ipython3",
   "version": "3.6.5"
  }
 },
 "nbformat": 4,
 "nbformat_minor": 2
}
