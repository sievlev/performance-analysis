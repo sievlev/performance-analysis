{
 "cells": [
  {
   "cell_type": "markdown",
   "metadata": {},
   "source": [
    "### Markov chains\n",
    "\n",
    "A machine is either working or in repair center. If it is working today, then there is a 95% chance that it will be working tomorrow. If it is in repair center today, then theree is a 40% chance that it will be working tomorrow."
   ]
  },
  {
   "cell_type": "code",
   "execution_count": 15,
   "metadata": {},
   "outputs": [
    {
     "name": "stdout",
     "output_type": "stream",
     "text": [
      "[[ 0.95  0.05]\n",
      " [ 0.4   0.6 ]]\n"
     ]
    }
   ],
   "source": [
    "import numpy as np\n",
    "\n",
    "P = np.matrix([[.95, .05], [.4, .6]])\n",
    "print(P)"
   ]
  },
  {
   "cell_type": "markdown",
   "metadata": {},
   "source": [
    "Stationary distribution\n",
    "\n",
    "$$\\pi={\\pi}P$$"
   ]
  },
  {
   "cell_type": "code",
   "execution_count": 17,
   "metadata": {},
   "outputs": [
    {
     "name": "stdout",
     "output_type": "stream",
     "text": [
      "[ 0.88888889  0.11111111]\n"
     ]
    }
   ],
   "source": [
    "# Searching for stationary distribution.\n",
    "\n",
    "S, U = np.linalg.eig(P.T)  # eigenvalues and eigenvector\n",
    "stationary = np.array(U[:, np.where(np.abs(S - 1.) < 1e-8)[0][0]].flat) # Search vector corresponding to eigenvalue of 1\n",
    "stationary = stationary / np.sum(stationary)  # normalize\n",
    "print(stationary)"
   ]
  },
  {
   "cell_type": "markdown",
   "metadata": {},
   "source": [
    "Thus machine is broken 1 out of every 9 days in average."
   ]
  },
  {
   "cell_type": "code",
   "execution_count": null,
   "metadata": {
    "collapsed": true
   },
   "outputs": [],
   "source": []
  }
 ],
 "metadata": {
  "kernelspec": {
   "display_name": "Python 3",
   "language": "python",
   "name": "python3"
  },
  "language_info": {
   "codemirror_mode": {
    "name": "ipython",
    "version": 3
   },
   "file_extension": ".py",
   "mimetype": "text/x-python",
   "name": "python",
   "nbconvert_exporter": "python",
   "pygments_lexer": "ipython3",
   "version": "3.6.2"
  }
 },
 "nbformat": 4,
 "nbformat_minor": 2
}
