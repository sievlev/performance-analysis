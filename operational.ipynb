{
 "cells": [
  {
   "cell_type": "markdown",
   "metadata": {},
   "source": [
    "# Operational laws\n",
    "\n",
    "\n",
    "## Little's Law for Open System\n",
    "\n",
    "For any ergodyc open system\n",
    "\n",
    ">E[N]=lambda * E[T]\n",
    "\n",
    "Where *lambda* - average outside rate into the system. This rate equals to *X* - throughput rate of the system. *E[N]* - expected number of jobs in the system, E[T] - expected time a job spends in the system.\n",
    "\n",
    ">E[N_q] = lambda * E[T_q]\n",
    "\n",
    "where N_q - number of jobs that are waiting in queues.\n",
    "\n",
    "## Little's Law for a Closed Batch System (Zero Think Time).\n",
    "\n",
    "> N = X * E[T]\n",
    "\n",
    "where N - multiprogramming level of the system\n",
    "\n",
    "## Response Time Law for Closed interactive Systems\n",
    "\n",
    "> E[R] = N/X - E[Z]\n",
    "\n",
    "where N - multiprogramming level (number of users), X - throwput, E[Z] - time spent thinking, E[R] - exprected response time\n",
    "\n",
    "## Utilization Law\n",
    "\n",
    "> ro_i = lambda_i / mu_i = lambda_i * E[S_i]\n",
    "\n",
    "where ro_i - utilization of the i-th server, lambda_i - average arrival rate into the server (equals to server's throughtput rate X_i), mu_i = 1/E[S_i] - mean service rate at the server\n",
    "\n",
    "\n",
    "## Forced Flow Law\n",
    "\n",
    ">X_i = E[V_i] * X\n",
    "\n",
    "X - system throghtput, X_i - thoughput at device i, E[V_i] - expected number of visits to device i per job\n",
    "\n",
    "## Bottleneck Law\n",
    "\n",
    "> ro_i = X * E[D_i]\n",
    "\n",
    "where D_i - total service demand on device i for all visits of a single job. Over a long observation period T:\n",
    "\n",
    "> D_i = B_i/C\n",
    "\n",
    "where B_i - total time during T that device i is busy and C - total number of system completions during time T."
   ]
  },
  {
   "cell_type": "markdown",
   "metadata": {},
   "source": [
    "## Asymptotic bounds for closed system\n",
    "\n",
    "For any closed interactive system with N terminals\n",
    "\n",
    ">X <= min(N/(D + E[Z], 1/D_max)\n",
    ">E[R] >= max(D, N * D_max - E[Z])\n",
    "\n",
    "where\n",
    "\n",
    "> D = sum(i=1, m) of E[D_i]\n",
    "> D_max = max{E[D_i]}"
   ]
  },
  {
   "cell_type": "code",
   "execution_count": 4,
   "metadata": {},
   "outputs": [],
   "source": [
    "from matplotlib import pyplot as plt\n",
    "%matplotlib inline"
   ]
  },
  {
   "cell_type": "code",
   "execution_count": 6,
   "metadata": {},
   "outputs": [
    {
     "data": {
      "text/plain": [
       "[<matplotlib.lines.Line2D at 0x10c8f7b00>]"
      ]
     },
     "execution_count": 6,
     "metadata": {},
     "output_type": "execute_result"
    },
    {
     "data": {
      "image/png": "[encoded data removed]",
      "text/plain": [
       "<matplotlib.figure.Figure at 0x10a450c50>"
      ]
     },
     "metadata": {},
     "output_type": "display_data"
    }
   ],
   "source": [
    "x = range(10)\n",
    "plt.plot(x, x)"
   ]
  },
  {
   "cell_type": "markdown",
   "metadata": {},
   "source": [
    "### Example 1"
   ]
  },
  {
   "cell_type": "code",
   "execution_count": 84,
   "metadata": {},
   "outputs": [
    {
     "data": {
      "text/plain": [
       "{'D': 12, 'D_max': 5, 'N_star': 6.0, 'Z': 18}"
      ]
     },
     "execution_count": 84,
     "metadata": {},
     "output_type": "execute_result"
    }
   ],
   "source": [
    "system = {\n",
    "    \"stats\": {\n",
    "        \"Z\": 18, # seconds        \n",
    "    },\n",
    "    \"devices\": {\n",
    "        \"cpu\": {\n",
    "            \"D\": 5, # seconds\n",
    "        },\n",
    "        \"disk_a\": {\n",
    "            \"D\": 4, # seconds\n",
    "        },\n",
    "        \"disk_b\": {\n",
    "            \"D\": 3, # seconds\n",
    "        },\n",
    "    },\n",
    "}\n",
    "\n",
    "\n",
    "def calculate_stats(system):\n",
    "    \"\"\"Calculates D and D_max from D of various system parts\"\"\"\n",
    "    for device in system[\"devices\"].values():\n",
    "        if \"B\" in device and \"C\" in system[\"stats\"]:\n",
    "            device[\"D\"] = device[\"B\"] / system[\"stats\"][\"C\"]  # secs / job\n",
    "        if \"C\" in device and \"C\" in system[\"stats\"]:\n",
    "            device[\"V\"] = device[\"C\"] / system[\"stats\"][\"C\"]  # visits / job\n",
    "        if \"B\" in device and \"C\" in device:\n",
    "            device[\"S\"] = device[\"B\"] / device[\"C\"]\n",
    "\n",
    "    system[\"stats\"][\"D_max\"] = max(device[\"D\"] for device in system[\"devices\"].values())\n",
    "    system[\"stats\"][\"D\"] = sum(device[\"D\"] for device in system[\"devices\"].values())\n",
    "    system[\"stats\"][\"N_star\"] = (system[\"stats\"][\"D\"] + system[\"stats\"][\"Z\"]) / system[\"stats\"][\"D_max\"]\n",
    "\n",
    "    \n",
    "calculate_stats(system)\n",
    "system[\"stats\"]"
   ]
  },
  {
   "cell_type": "code",
   "execution_count": 62,
   "metadata": {
    "scrolled": true
   },
   "outputs": [
    {
     "data": {
      "image/png": "[encoded data removed]",
      "text/plain": [
       "<matplotlib.figure.Figure at 0x10cbe8518>"
      ]
     },
     "metadata": {},
     "output_type": "display_data"
    }
   ],
   "source": [
    "def draw_asymptotes(system, max_n):\n",
    "    stats = system[\"stats\"]\n",
    "    \n",
    "    throughput = plt.subplot(1,2,1)\n",
    "    throughput.set_title(\"X versus N\")\n",
    "\n",
    "    # throwput limits\n",
    "    xs = range(max_n)\n",
    "    slope = 1 / (stats[\"D\"] + stats[\"Z\"])\n",
    "    max_throughput = 1 / stats[\"D_max\"]\n",
    "    \n",
    "    ys1 = [x * slope for x in xs]\n",
    "    ys2 = [max_throughput for _ in xs]\n",
    "    ys_top = [max_n * slope for x in xs]\n",
    "\n",
    "    throughput.plot(xs, ys1)\n",
    "    throughput.fill_between(xs, ys1,  ys_top, color='lightblue', alpha=0.3)\n",
    "    throughput.plot(xs, ys2)\n",
    "    throughput.fill_between(xs, ys2,  ys_top, color='lightblue', alpha=0.3)\n",
    "    throughput.set_ylim(ymin=0, ymax=ys1[-1] * 1.1)\n",
    "    \n",
    "    response_time = plt.subplot(1,2,2)\n",
    "    response_time.set_title(\"E[R] versus N\")\n",
    "\n",
    "    slope = stats[\"D_max\"]\n",
    "    shift = -stats[\"Z\"]\n",
    "    min_response_time = stats[\"D\"]\n",
    "       \n",
    "    ys1 = [(x * slope + shift) for x in xs]\n",
    "    ys2 = [min_response_time for _ in xs]\n",
    "    ys_bottom = [0 for _ in xs]\n",
    "    response_time.plot(xs, ys1)\n",
    "    response_time.fill_between(xs, ys_bottom,  ys1, color='lightblue', alpha=0.3)\n",
    "    response_time.plot(xs, ys2)\n",
    "    response_time.fill_between(xs, ys_bottom,  ys2, color='lightblue', alpha=0.3)\n",
    "    response_time.set_ylim(ymin=0, ymax=ys1[-1] * 1.1)\n",
    "\n",
    "    plt.show()\n",
    "\n",
    "draw_asymptotes(system, 20)"
   ]
  },
  {
   "cell_type": "markdown",
   "metadata": {},
   "source": [
    "### Example 2"
   ]
  },
  {
   "cell_type": "code",
   "execution_count": 90,
   "metadata": {},
   "outputs": [
    {
     "name": "stdout",
     "output_type": "stream",
     "text": [
      "{'devices': {'cpu': {'B': 400, 'C': 200, 'D': 2.0, 'S': 2.0, 'V': 1.0},\n",
      "             'fastdisk': {'B': 600,\n",
      "                          'C': 20000,\n",
      "                          'D': 3.0,\n",
      "                          'S': 0.03,\n",
      "                          'V': 100.0},\n",
      "             'slowdisk': {'B': 100, 'C': 2000, 'D': 0.5, 'S': 0.05, 'V': 10.0}},\n",
      " 'stats': {'C': 200,\n",
      "           'D': 5.5,\n",
      "           'D_max': 3.0,\n",
      "           'N': 20,\n",
      "           'N_star': 6.833333333333333,\n",
      "           'T': 650,\n",
      "           'Z': 15}}\n",
      "{'devices': {'cpu': {'B': 200, 'C': 200, 'D': 1.0, 'S': 1.0, 'V': 1.0},\n",
      "             'fastdisk': {'B': 600,\n",
      "                          'C': 20000,\n",
      "                          'D': 3.0,\n",
      "                          'S': 0.03,\n",
      "                          'V': 100.0},\n",
      "             'slowdisk': {'B': 100, 'C': 2000, 'D': 0.5, 'S': 0.05, 'V': 10.0}},\n",
      " 'stats': {'C': 200,\n",
      "           'D': 4.5,\n",
      "           'D_max': 3.0,\n",
      "           'N': 20,\n",
      "           'N_star': 6.5,\n",
      "           'T': 650,\n",
      "           'Z': 15}}\n",
      "{'devices': {'cpu': {'B': 400, 'C': 200, 'D': 2.0, 'S': 2.0, 'V': 1.0},\n",
      "             'fastdisk': {'B': 300, 'C': 10000, 'D': 1.5, 'S': 0.03, 'V': 50.0},\n",
      "             'fastdisk2': {'B': 300,\n",
      "                           'C': 10000,\n",
      "                           'D': 1.5,\n",
      "                           'S': 0.03,\n",
      "                           'V': 50.0},\n",
      "             'slowdisk': {'B': 100, 'C': 2000, 'D': 0.5, 'S': 0.05, 'V': 10.0}},\n",
      " 'stats': {'C': 200,\n",
      "           'D': 5.5,\n",
      "           'D_max': 2.0,\n",
      "           'N': 20,\n",
      "           'N_star': 10.25,\n",
      "           'T': 650,\n",
      "           'Z': 15}}\n"
     ]
    }
   ],
   "source": [
    "import copy\n",
    "import pprint\n",
    "\n",
    "system1 = {\n",
    "    \"stats\": {\n",
    "        \"T\": 650, # seconds\n",
    "        \"C\": 200, # jobs\n",
    "        \"Z\": 15, # seconds\n",
    "        \"N\": 20, # users\n",
    "    },\n",
    "    \"devices\": {\n",
    "        \"cpu\": {\n",
    "            \"B\": 400, # seconds\n",
    "            \"C\": 200, # jobs\n",
    "        },\n",
    "        \"slowdisk\": {\n",
    "            \"B\": 100,  # seconds\n",
    "            \"C\": 2000 # jobs\n",
    "        },\n",
    "        \"fastdisk\": {\n",
    "            \"B\": 600,  # seconds\n",
    "            \"C\": 20000,  # jobs\n",
    "        },\n",
    "    }\n",
    "}\n",
    "# try to insert faster cpu\n",
    "system2 = copy.deepcopy(system1)\n",
    "system2[\"devices\"][\"cpu\"][\"B\"] = 200 # seconds\n",
    "\n",
    "# try to insert additional disk\n",
    "system3 = copy.deepcopy(system1)\n",
    "system3[\"devices\"][\"fastdisk\"] = {\n",
    "    \"B\": 300,\n",
    "    \"C\": 10000,\n",
    "}\n",
    "system3[\"devices\"][\"fastdisk2\"] = {\n",
    "    \"B\": 300,\n",
    "    \"C\": 10000,\n",
    "}\n",
    "\n",
    "calculate_stats(system1)\n",
    "calculate_stats(system2)\n",
    "calculate_stats(system3)\n",
    "pprint.pprint(system1)\n",
    "pprint.pprint(system2)\n",
    "pprint.pprint(system3)"
   ]
  },
  {
   "cell_type": "code",
   "execution_count": 87,
   "metadata": {},
   "outputs": [
    {
     "data": {
      "image/png": "[encoded data removed]",
      "text/plain": [
       "<matplotlib.figure.Figure at 0x10ca38f98>"
      ]
     },
     "metadata": {},
     "output_type": "display_data"
    }
   ],
   "source": [
    "draw_asymptotes(system1, 30)"
   ]
  },
  {
   "cell_type": "code",
   "execution_count": 91,
   "metadata": {},
   "outputs": [
    {
     "data": {
      "image/png": "[encoded data removed]",
      "text/plain": [
       "<matplotlib.figure.Figure at 0x10d4124a8>"
      ]
     },
     "metadata": {},
     "output_type": "display_data"
    }
   ],
   "source": [
    "draw_asymptotes(system3, 30)"
   ]
  },
  {
   "cell_type": "code",
   "execution_count": null,
   "metadata": {
    "collapsed": true
   },
   "outputs": [],
   "source": []
  }
 ],
 "metadata": {
  "kernelspec": {
   "display_name": "Python 3",
   "language": "python",
   "name": "python3"
  },
  "language_info": {
   "codemirror_mode": {
    "name": "ipython",
    "version": 3
   },
   "file_extension": ".py",
   "mimetype": "text/x-python",
   "name": "python",
   "nbconvert_exporter": "python",
   "pygments_lexer": "ipython3",
   "version": "3.6.2"
  }
 },
 "nbformat": 4,
 "nbformat_minor": 2
}
