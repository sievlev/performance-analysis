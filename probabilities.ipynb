{
 "cells": [
  {
   "cell_type": "markdown",
   "metadata": {},
   "source": [
    "## Probabilities and Densities\n",
    "\n",
    "### Discrete\n",
    "\n",
    "**Bernoulli(p)** - represents result of a single coin flip, where coin has probability p of coming up heads (success)\n",
    "\n",
    "$$X = \\begin{cases}1,&\\text{w/prob p}\\\\0,&\\text{otherwise}\\end{cases} $$\n",
    "$$p_X(0) = 1 - p \\\\ p_X(1) = p $$\n",
    "\n",
    "**Binomial(p)** - Number of heads (successes) when flipping a Bernoulli(p) coiin n times.\n",
    "\n",
    "$$p_X(i) = \\binom{n}{i}p^i(1-p)^{n-i}$$\n",
    "\n",
    "**Geometric(p)** - Number of flips until we get a success\n",
    "\n",
    "$$p_X(i) = (1 - p)^{i}p$$\n",
    "\n",
    "**Poison(lambda)**\n",
    "\n",
    "$$p_X(i) = \\frac{e^{-\\lambda}\\lambda^i}{i!}$$\n",
    "\n",
    "\n",
    "### Continious\n",
    "\n",
    "**Uniform(a,b)** U(a,b)\n",
    "\n",
    "$$f_X(x) = \\begin{cases}\\frac{1}{b-a},&\\text{if a <= x <= b}\\\\0,&\\text{otherwise}\\end{cases}$$"
   ]
  },
  {
   "cell_type": "markdown",
   "metadata": {},
   "source": [
    "**Example**\n",
    "Suppose we have a room of n disks. Each disk idependently dies with probability p each year. Then:\n",
    "\n",
    "* Number of disks that die in the first year - Binomial(p)\n",
    "* Number of years until a particular disk dies - Geometric(p)\n",
    "* The state of particular disk after one year - Bernoulli(p)"
   ]
  },
  {
   "cell_type": "markdown",
   "metadata": {},
   "source": [
    "### Exponential distribution\n",
    "\n",
    "$$f_X(x) = \\begin{cases}\\lambda{e}^{-\\lambda{x}},&\\text{x >= 0}\\\\0,&\\text{x < 0}\\end{cases}$$\n",
    "\n",
    "Properties.\n",
    "\n",
    "**Memoryless** - $P(T > t + s | T > t) = P(T > t)$\n",
    "\n",
    "**Constant failure rate** - Fraction of remaining items should drop by a constant factor."
   ]
  },
  {
   "cell_type": "markdown",
   "metadata": {
    "collapsed": true
   },
   "source": [
    "### Pareto distribution\n",
    "\n",
    "$$f_X(x) = \\begin{cases}\\alpha{x}^{-\\alpha-1},&\\text{x >=1 }\\\\0,&\\text{otherwise}\\end{cases}$$\n",
    "\n",
    "Properties:\n",
    "\n",
    "**Heavy-tailed distribution** - most objects are in the \"tail\".\n",
    "Examples:\n",
    "* 1% of all people have more money than all remaining 99%\n",
    "* sizes of files at websites has Pareto distribution with $\\alpha \\approx 1.1$\n",
    "* most nodes in internet have low degree (as graph vertex)\n",
    "\n",
    "**Decreasing failure rate** - probability of an event in a fixed time interval in the future decreases over time. \n",
    "Example:\n",
    "* In distrubution of jobs by CPU usage - The more CPU you have used so far, the more you will continue to use\n",
    "\n",
    "$$r(x) = \\frac{f(x)}{\\bar{F}(x)} = \\frac{\\alpha}{x}$$"
   ]
  },
  {
   "cell_type": "markdown",
   "metadata": {},
   "source": [
    "### Erlang k-distribution\n",
    "\n",
    "Sum of Exponential distributions $T=T_1+T_2+\\dots+T_k$\n",
    "\n",
    "$E[T] = k\\frac{1}{k\\mu} = \\frac{1}{\\mu}$, $Var(T) = \\frac{1}{k}\\frac{1}{\\mu^2}$\n",
    "\n",
    "$C^2_X = \\frac{Var(X)}{E[X]^2} = \\frac{1}{k}$ Squared coefficient of variation (SCV) aka normalized variance.\n",
    "\n",
    "As $k\\to\\infty$ T converges to Deterministic distribution of value $\\frac{1}{\\mu}$. Generalizations are Hypoexponential distribution and Coxian distribution."
   ]
  },
  {
   "cell_type": "markdown",
   "metadata": {},
   "source": [
    "### Hyperexponential distribution\n",
    "\n",
    "$T = \\begin{cases}{Exp(\\mu_1}\\text{ with probability p}\\\\Exp(\\mu_2)\\text{ with probability 1 - p}\\end{cases}$\n",
    "\n",
    "Degenerate hyperexponential distribution $T = \\begin{cases}{Exp(p\\mu}\\text{ with probability p}\\\\0\\text{ with probability 1 - p}\\end{cases}$\n",
    "\n",
    "$E[T] = p\\frac{1}{p\\mu}=\\frac{1}{\\mu}$, $Var(T) = \\frac{2-p}{p}\\left(\\frac{1}{\\mu}\\right)^2$\n",
    "\n",
    "$C^2_X=\\frac{2}{p} - 1$. As the value of p decreses, the value of $C^2_X$ increases.\n"
   ]
  },
  {
   "cell_type": "code",
   "execution_count": null,
   "metadata": {},
   "outputs": [],
   "source": []
  }
 ],
 "metadata": {
  "kernelspec": {
   "display_name": "Python 3",
   "language": "python",
   "name": "python3"
  },
  "language_info": {
   "codemirror_mode": {
    "name": "ipython",
    "version": 3
   },
   "file_extension": ".py",
   "mimetype": "text/x-python",
   "name": "python",
   "nbconvert_exporter": "python",
   "pygments_lexer": "ipython3",
   "version": "3.6.5"
  }
 },
 "nbformat": 4,
 "nbformat_minor": 2
}
