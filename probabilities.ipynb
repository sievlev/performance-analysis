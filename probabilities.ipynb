{
 "cells": [
  {
   "cell_type": "markdown",
   "metadata": {},
   "source": [
    "## Probabilities and Densities\n",
    "\n",
    "### Discrete\n",
    "\n",
    "**Bernoulli(p)** - represents result of a single coin flip, where coin has probability p of coming up heads (success)\n",
    "\n",
    "$$X = \\begin{cases}1,&\\text{w/prob p}\\\\0,&\\text{otherwise}\\end{cases} $$\n",
    "$$p_X(0) = 1 - p \\\\ p_X(1) = p $$\n",
    "\n",
    "**Binomial(p)** - Number of heads (successes) when flipping a Bernoulli(p) coiin n times.\n",
    "\n",
    "$$p_X(i) = \\binom{n}{i}p^i(1-p)^{n-i}$$\n",
    "\n",
    "**Geometric(p)** - Number of flips until we get a success\n",
    "\n",
    "$$p_X(i) = (1 - p)^{i}p$$\n",
    "\n",
    "**Poison(lambda)**\n",
    "\n",
    "$$p_X(i) = \\frac{e^{-\\lambda}\\lambda^i}{i!}$$\n",
    "\n",
    "\n",
    "### Continious\n",
    "\n",
    "**Uniform(a,b)** U(a,b)\n",
    "\n",
    "$$f_X(x) = \\begin{cases}\\frac{1}{b-a},&\\text{if a <= x <= b}\\\\0,&\\text{otherwise}\\end{cases}$$\n",
    "\n",
    "\n",
    "**Exp(lambda)**\n",
    "\n",
    "$$f_X(x) = \\begin{cases}\\lambda{e}^{-\\lambda{x}},&\\text{x >= 0}\\\\0,&\\text{x < 0}\\end{cases}$$\n",
    "\n",
    "**Pareto(alpha)** The Paretto distribution is said to have a \"heavy tail\"\n",
    "\n",
    "$$f_X(x) = \\begin{cases}\\alpha{x}^{-\\alpha-1},&\\text{x >=1 }\\\\0,&\\text{otherwise}\\end{cases}"
   ]
  },
  {
   "cell_type": "markdown",
   "metadata": {},
   "source": [
    "**Example**\n",
    "Suppose we have a room of n disks. Each disk idependently dies with probability p each year. Then:\n",
    "\n",
    "* Number of disks that die in the first year - Binomial(p)\n",
    "* Number of years until a particular disk dies - Geometric(p)\n",
    "* The state of particular disk after one year - Bernoulli(p)"
   ]
  },
  {
   "cell_type": "code",
   "execution_count": null,
   "metadata": {
    "collapsed": true
   },
   "outputs": [],
   "source": []
  }
 ],
 "metadata": {
  "kernelspec": {
   "display_name": "Python 3",
   "language": "python",
   "name": "python3"
  },
  "language_info": {
   "codemirror_mode": {
    "name": "ipython",
    "version": 3
   },
   "file_extension": ".py",
   "mimetype": "text/x-python",
   "name": "python",
   "nbconvert_exporter": "python",
   "pygments_lexer": "ipython3",
   "version": "3.6.2"
  }
 },
 "nbformat": 4,
 "nbformat_minor": 2
}
